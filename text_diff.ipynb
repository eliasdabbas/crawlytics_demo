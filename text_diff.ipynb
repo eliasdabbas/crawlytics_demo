{
 "cells": [
  {
   "cell_type": "raw",
   "id": "a988dcc9-6e40-412f-8e15-f7a6c8eec25e",
   "metadata": {},
   "source": [
    "---\n",
    "title: \"Creating a visual text diff - HTML file\"\n",
    "format:\n",
    "  html:\n",
    "    embed-resources: true\n",
    "    code-fold: true\n",
    "    page-layout: full\n",
    "    max-width: 900px\n",
    "---"
   ]
  },
  {
   "cell_type": "code",
   "execution_count": 98,
   "id": "3480dc02-d722-40c8-87da-4deba59dddea",
   "metadata": {},
   "outputs": [],
   "source": [
    "#| echo: false\n",
    "from IPython.display import FileLink, IFrame"
   ]
  },
  {
   "cell_type": "markdown",
   "id": "6832c229-8f80-442c-a221-644ae1fbd2a1",
   "metadata": {},
   "source": [
    "Create an HTML file showing how values have changed acrosx two text lists\n",
    "\n",
    "![](visual_text_diff.png)\n",
    "\n",
    "As the colors show, we can see what was deleted, added, or changed.\n",
    "\n",
    "In this case the first four meta descriptions were completely changed (red became green).\n",
    "In the last three we have a much more nuanced and interesting diff. It shows us exactly what was changed/deleted between the first and second crawls.\n",
    "\n",
    "On row 6, \"April\" became \"October\" and \"closed\" became \"open\" for example. Note that the highlighting is per character:\n",
    "\n",
    "`closed`  \n",
    "`open`\n",
    "\n",
    "The \"o\" and \"e\" are common in both strings, so they are not highlighted. The other letters are.\n",
    "\n",
    "Note that hovering over the row numbers will show you the URL that is being compared. They are also clickable, in case you want to actually visit the page.\n",
    "\n",
    "![](diff_mouseover.png)\n",
    "\n",
    "\n",
    "## Some examples to explore:"
   ]
  },
  {
   "cell_type": "code",
   "execution_count": 95,
   "id": "c96cd9f2-1509-40d9-8836-798e1aca5cd3",
   "metadata": {},
   "outputs": [
    {
     "data": {
      "text/html": [
       "<a href='meta_desc_diff.html' target='_blank'>meta_desc_diff.html</a><br>"
      ],
      "text/plain": [
       "/Users/me/Google Drive/crawlytics_demo/meta_desc_diff.html"
      ]
     },
     "metadata": {},
     "output_type": "display_data"
    },
    {
     "data": {
      "text/html": [
       "<a href='h2_diff.html' target='_blank'>h2_diff.html</a><br>"
      ],
      "text/plain": [
       "/Users/me/Google Drive/crawlytics_demo/h2_diff.html"
      ]
     },
     "metadata": {},
     "output_type": "display_data"
    },
    {
     "data": {
      "text/html": [
       "<a href='title_diff.html' target='_blank'>title_diff.html</a><br>"
      ],
      "text/plain": [
       "/Users/me/Google Drive/crawlytics_demo/title_diff.html"
      ]
     },
     "metadata": {},
     "output_type": "display_data"
    },
    {
     "data": {
      "text/html": [
       "<a href='og_description_diff.html' target='_blank'>og_description_diff.html</a><br>"
      ],
      "text/plain": [
       "/Users/me/Google Drive/crawlytics_demo/og_description_diff.html"
      ]
     },
     "metadata": {},
     "output_type": "display_data"
    }
   ],
   "source": [
    "#| echo: false\n",
    "display(FileLink('meta_desc_diff.html'))\n",
    "display(FileLink('h2_diff.html'))\n",
    "display(FileLink('title_diff.html'))\n",
    "display(FileLink('og_description_diff.html'))"
   ]
  },
  {
   "cell_type": "code",
   "execution_count": null,
   "id": "8282f70a-c4d9-4a0a-8f2c-cb319c071cec",
   "metadata": {},
   "outputs": [],
   "source": [
    "import re\n",
    "from difflib import HtmlDiff\n",
    "import pandas as pd\n",
    "pd.options.display.max_columns = None\n",
    "df1 = pd.read_parquet('nasa_crawl.parquet')\n",
    "df2 = pd.read_parquet('nasa_crawl3.parquet')\n",
    "\n",
    "def compare(df1, df2, column, keep_equal=False):\n",
    "    compare_df = pd.merge(\n",
    "        df1[[\"url\", column]], df2[[\"url\", column]], left_on=\"url\", right_on=\"url\"\n",
    "    ).assign(changed=lambda df: df[f\"{column}_x\"].ne(df[f\"{column}_y\"]))\n",
    "    if (\"int\" in str(df1[column].dtype).lower()) or (\n",
    "        \"float\" in str(df1[column].dtype).lower()\n",
    "    ):\n",
    "        compare_df[\"diff\"] = compare_df[f\"{column}_y\"].sub(compare_df[f\"{column}_x\"])\n",
    "        compare_df[\"diff_perc\"] = compare_df[\"diff\"].div(compare_df[f\"{column}_x\"])\n",
    "    compare_df = compare_df.dropna(thresh=compare_df.shape[1])\n",
    "    if keep_equal:\n",
    "        return compare_df.reset_index(drop=True)\n",
    "    else:\n",
    "        return (\n",
    "            compare_df[compare_df[\"changed\"]]\n",
    "            .drop(\"changed\", axis=1)\n",
    "            .reset_index(drop=True)\n",
    "        )\n",
    "\n",
    "legend_table = \"\"\"\n",
    "    <table>\n",
    "        <tbody>\n",
    "            <tr>\n",
    "                <td><strong>Colors:</strong></td>\n",
    "                <td style=\"background-color:hsl(120,100%,83%); border-style: solid; border-color: #efefef;\"><span>Added</span></td>\n",
    "                <td style=\"background-color:hsl(60,100%,73%); border-style: solid; border-color: #efefef;\"><span>Changed</span></td>\n",
    "                <td style=\"background-color:hsl(0,100%,83%); border-style: solid; border-color: #efefef;\"><span>Deleted</span></td>\n",
    "            </tr>\n",
    "        </tbody>\n",
    "    </table>\n",
    "    <br>\n",
    "\"\"\"\n",
    "\n",
    "table_style = \"\"\"\n",
    "<style type=\"text/css\">\n",
    "    table.diff {\n",
    "    font-family:Menlo;\n",
    "    border:medium;\n",
    "    width:97%;\n",
    "\n",
    "    }\n",
    "    tr {\n",
    "  border-bottom: 1px solid #efefef;\n",
    "}\n",
    "    table td {\n",
    "    padding: 2px;\n",
    "    word-break: break-word;\n",
    "    }\n",
    "    .diff_header {background-color:#e0e0e0}\n",
    "    td.diff_header {text-align:right}\n",
    "    .diff_next {background-color:#c0c0c0; word-wrap: normal; word-break: break-word;}\n",
    "    .diff_add {background-color:#aaffaa ; word-wrap: normal; word-break: break-word;}\n",
    "    .diff_chg {background-color:#ffff77 ; word-wrap: normal; word-break: break-word;}\n",
    "    .diff_sub {background-color:#ffaaaa ; word-wrap: normal; word-break: break-word;}\n",
    "\n",
    "table td a:hover:after {\n",
    "  content: attr(data-title);\n",
    "  position: absolute;\n",
    "  font: 10px verdana;\n",
    "  top: -110%;\n",
    "  left: 0;\n",
    "  background: #ace;\n",
    "  color: black;\n",
    "  box-sizing: border-box;\n",
    "  border: 1px solid gray;\n",
    "  border-radius: 20%;\n",
    "  padding: 3px;\n",
    "}\n",
    "</style>\n",
    "\"\"\"\n",
    "\n",
    "\n",
    "def diff(diff_df, output_file):\n",
    "    header1 = diff_df.columns[1].rsplit('_', maxsplit=1)[0] + ' X'\n",
    "    header2 = diff_df.columns[1].rsplit('_', maxsplit=1)[0] + ' Y'\n",
    "\n",
    "    htmldiff = HtmlDiff()\n",
    "    html_str = htmldiff.make_file(\n",
    "        fromdesc=header1,\n",
    "        todesc=header2,\n",
    "        fromlines=diff_df.iloc[:, 1],\n",
    "        tolines=diff_df.iloc[:, 2]\n",
    "    )\n",
    "    html_str = re.sub('<style type=.*</style>', table_style, html_str, flags=re.DOTALL)\n",
    "    html_str = re.sub(' nowrap=\"nowrap\"', '', html_str, flags=re.DOTALL)\n",
    "    html_str = re.sub('<body>', '<body><div align=\"center\">', html_str, flags=re.DOTALL)\n",
    "    html_str = re.sub('</body>', '</div></body>', html_str, flags=re.DOTALL)\n",
    "    html_str = re.sub('<table class=\"diff\" summary=\"Legends\">.*</table>', '', html_str, flags=re.DOTALL)\n",
    "\n",
    "    for i, url in enumerate(diff_df['url'], start=1):\n",
    "        html_str = re.sub(f'>{i}</td', f'><a href=\"{url}\" title=\"{url}\"><b>{i}</b></a></td', html_str, flags=re.DOTALL)\n",
    "    with open(output_file, 'w') as htmlfile:\n",
    "        print(legend_table + html_str, file=htmlfile)\n",
    "\n",
    "diff(compare(df1, df2, 'meta_desc'), output_file= 'meta_desc_diff.html')"
   ]
  },
  {
   "cell_type": "markdown",
   "id": "1edef51b-d87b-4f59-9380-7c8c06651017",
   "metadata": {},
   "source": [
    "## Usage\n",
    "\n",
    "First create you comparison DataFrame with the `compare` function:"
   ]
  },
  {
   "cell_type": "code",
   "execution_count": 94,
   "id": "97c9f5a8-b8ee-45aa-b50d-bd180c2fe927",
   "metadata": {},
   "outputs": [
    {
     "data": {
      "text/html": [
       "<div>\n",
       "<style scoped>\n",
       "    .dataframe tbody tr th:only-of-type {\n",
       "        vertical-align: middle;\n",
       "    }\n",
       "\n",
       "    .dataframe tbody tr th {\n",
       "        vertical-align: top;\n",
       "    }\n",
       "\n",
       "    .dataframe thead th {\n",
       "        text-align: right;\n",
       "    }\n",
       "</style>\n",
       "<table border=\"1\" class=\"dataframe\">\n",
       "  <thead>\n",
       "    <tr style=\"text-align: right;\">\n",
       "      <th></th>\n",
       "      <th>url</th>\n",
       "      <th>meta_desc_x</th>\n",
       "      <th>meta_desc_y</th>\n",
       "    </tr>\n",
       "  </thead>\n",
       "  <tbody>\n",
       "    <tr>\n",
       "      <th>0</th>\n",
       "      <td>https://www.nasa.gov/stem-content/amateur-radi...</td>\n",
       "      <td>ARISS-US is accepting proposals from U.S. scho...</td>\n",
       "      <td>Students have the opportunity to learn about s...</td>\n",
       "    </tr>\n",
       "    <tr>\n",
       "      <th>1</th>\n",
       "      <td>https://www.nasa.gov/womens-history-month/</td>\n",
       "      <td>https://www.youtube.com/watch?v=5VPxyMmQRwA ht...</td>\n",
       "      <td>https://www.youtube.com/watch?v=5VPxyMmQRwA</td>\n",
       "    </tr>\n",
       "    <tr>\n",
       "      <th>2</th>\n",
       "      <td>https://www.nasa.gov/procurement/</td>\n",
       "      <td>Upcoming 2024 Leadership Engagements Date Even...</td>\n",
       "      <td>Upcoming 2024 Leadership Engagements Date Even...</td>\n",
       "    </tr>\n",
       "    <tr>\n",
       "      <th>3</th>\n",
       "      <td>https://www.nasa.gov/reference/lsp-primary-lau...</td>\n",
       "      <td>Mission: PsycheVehicle: SpaceX Falcon HeavyLau...</td>\n",
       "      <td>Mission: PACEVehicle: SpaceX Falcon 9Launch Si...</td>\n",
       "    </tr>\n",
       "    <tr>\n",
       "      <th>4</th>\n",
       "      <td>https://www.nasa.gov/foia/foia-reports/chief-f...</td>\n",
       "      <td>Current Chief FOIA Officer Report Chief FOIA O...</td>\n",
       "      <td>Current Chief FOIA Officer Report Chief FOIA O...</td>\n",
       "    </tr>\n",
       "    <tr>\n",
       "      <th>5</th>\n",
       "      <td>https://www.nasa.gov/directorates/esdmd/hhp/ae...</td>\n",
       "      <td>The application window for the April 2024 sess...</td>\n",
       "      <td>The application window for the October 2024 se...</td>\n",
       "    </tr>\n",
       "    <tr>\n",
       "      <th>6</th>\n",
       "      <td>https://science.nasa.gov/mission/kepler/in-depth</td>\n",
       "      <td>Key Facts Nation United States of America (USA...</td>\n",
       "      <td>Key Facts Nation United States of America (USA...</td>\n",
       "    </tr>\n",
       "  </tbody>\n",
       "</table>\n",
       "</div>"
      ],
      "text/plain": [
       "                                                 url  \\\n",
       "0  https://www.nasa.gov/stem-content/amateur-radi...   \n",
       "1         https://www.nasa.gov/womens-history-month/   \n",
       "2                  https://www.nasa.gov/procurement/   \n",
       "3  https://www.nasa.gov/reference/lsp-primary-lau...   \n",
       "4  https://www.nasa.gov/foia/foia-reports/chief-f...   \n",
       "5  https://www.nasa.gov/directorates/esdmd/hhp/ae...   \n",
       "6   https://science.nasa.gov/mission/kepler/in-depth   \n",
       "\n",
       "                                         meta_desc_x  \\\n",
       "0  ARISS-US is accepting proposals from U.S. scho...   \n",
       "1  https://www.youtube.com/watch?v=5VPxyMmQRwA ht...   \n",
       "2  Upcoming 2024 Leadership Engagements Date Even...   \n",
       "3  Mission: PsycheVehicle: SpaceX Falcon HeavyLau...   \n",
       "4  Current Chief FOIA Officer Report Chief FOIA O...   \n",
       "5  The application window for the April 2024 sess...   \n",
       "6  Key Facts Nation United States of America (USA...   \n",
       "\n",
       "                                         meta_desc_y  \n",
       "0  Students have the opportunity to learn about s...  \n",
       "1        https://www.youtube.com/watch?v=5VPxyMmQRwA  \n",
       "2  Upcoming 2024 Leadership Engagements Date Even...  \n",
       "3  Mission: PACEVehicle: SpaceX Falcon 9Launch Si...  \n",
       "4  Current Chief FOIA Officer Report Chief FOIA O...  \n",
       "5  The application window for the October 2024 se...  \n",
       "6  Key Facts Nation United States of America (USA...  "
      ]
     },
     "execution_count": 94,
     "metadata": {},
     "output_type": "execute_result"
    }
   ],
   "source": [
    "#| code-fold: false\n",
    "comparison_df = compare(df1, df2, column='meta_desc')\n",
    "comparison_df"
   ]
  },
  {
   "cell_type": "markdown",
   "id": "0803a6bb-a278-4b29-89a5-9d8aca6f7d3b",
   "metadata": {},
   "source": [
    "### What the function does:\n",
    "1. Get the common URLs in both crawls\n",
    "2. Compare and only display the values that have changed in the selected `column`\n",
    "3. Optionally set `keep_equal=True` if you want to get all values, even if they are the same. This can be useful in showing which URLs are common across both crawls.\n",
    "\n",
    "Comparing URLs will have it's own functionality later as this is a crucial aspect of comparing crawls.\n",
    "\n",
    "Now that we have our `comparison_df` we can simply feed it to the `diff` function:"
   ]
  },
  {
   "cell_type": "code",
   "execution_count": 97,
   "id": "bea1f9b0-f032-4f16-b295-26c55e712370",
   "metadata": {},
   "outputs": [],
   "source": [
    "#| code-fold: false\n",
    "diff(comparison_df, output_file='meta_description_diff.html')"
   ]
  },
  {
   "cell_type": "markdown",
   "id": "ba3b85c3-faed-4575-93b9-043d004c5130",
   "metadata": {},
   "source": [
    "Display as an iframe within the notebook, or open as a standalone HTML document in your browser:"
   ]
  },
  {
   "cell_type": "code",
   "execution_count": 96,
   "id": "931d3f29-304f-495e-a444-ef61e20b29bc",
   "metadata": {},
   "outputs": [
    {
     "data": {
      "text/html": [
       "\n",
       "        <iframe\n",
       "            width=\"1200\"\n",
       "            height=\"700\"\n",
       "            src=\"meta_description_diff.html\"\n",
       "            frameborder=\"0\"\n",
       "            allowfullscreen\n",
       "            \n",
       "        ></iframe>\n",
       "        "
      ],
      "text/plain": [
       "<IPython.lib.display.IFrame at 0x12f759af0>"
      ]
     },
     "execution_count": 96,
     "metadata": {},
     "output_type": "execute_result"
    }
   ],
   "source": [
    "#| echo: false\n",
    "IFrame(src=\"meta_description_diff.html\", width=1200, height=700)"
   ]
  }
 ],
 "metadata": {
  "kernelspec": {
   "display_name": "Python 3 (ipykernel)",
   "language": "python",
   "name": "python3"
  },
  "language_info": {
   "codemirror_mode": {
    "name": "ipython",
    "version": 3
   },
   "file_extension": ".py",
   "mimetype": "text/x-python",
   "name": "python",
   "nbconvert_exporter": "python",
   "pygments_lexer": "ipython3",
   "version": "3.12.2"
  }
 },
 "nbformat": 4,
 "nbformat_minor": 5
}
